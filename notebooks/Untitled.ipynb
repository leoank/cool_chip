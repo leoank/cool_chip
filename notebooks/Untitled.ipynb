{
 "cells": [
  {
   "cell_type": "code",
   "execution_count": 1,
   "id": "buried-virtue",
   "metadata": {},
   "outputs": [],
   "source": [
    "from cool_chip.geometry.fin import CylindricalFin"
   ]
  },
  {
   "cell_type": "code",
   "execution_count": 9,
   "id": "toxic-plaza",
   "metadata": {},
   "outputs": [],
   "source": [
    "import cadquery as cq\n",
    "from jupyter_cadquery.cadquery import (PartGroup, Part, Edges, Faces, Vertices, show)\n",
    "from jupyter_cadquery import set_sidecar, set_defaults, reset_defaults\n",
    "\n",
    "set_sidecar(\"CadQuery2\")  # force usage of one cad view on the right\n",
    "set_defaults(axes=False, grid=True, axes0=True, ortho=True, transparent=True) # Set default values"
   ]
  },
  {
   "cell_type": "code",
   "execution_count": 3,
   "id": "super-mercy",
   "metadata": {},
   "outputs": [],
   "source": [
    "import numpy as np"
   ]
  },
  {
   "cell_type": "code",
   "execution_count": 4,
   "id": "quiet-appeal",
   "metadata": {},
   "outputs": [
    {
     "data": {
      "text/plain": [
       "array([0. , 0.5, 1. , 1.5, 2. ])"
      ]
     },
     "execution_count": 4,
     "metadata": {},
     "output_type": "execute_result"
    }
   ],
   "source": [
    "np.linspace(0,2,5)"
   ]
  },
  {
   "cell_type": "code",
   "execution_count": 5,
   "id": "elegant-portfolio",
   "metadata": {},
   "outputs": [],
   "source": [
    "fins = [CylindricalFin(concavity=i) for i in np.linspace(0,2,5)]"
   ]
  },
  {
   "cell_type": "code",
   "execution_count": 14,
   "id": "capable-crisis",
   "metadata": {},
   "outputs": [],
   "source": [
    "for fin in fins:\n",
    "    fin.export_geom(filename=f\"cy_fin_{fin.CONCAVITY}\", filetype=\"STEP\")"
   ]
  },
  {
   "cell_type": "code",
   "execution_count": 12,
   "id": "unable-basic",
   "metadata": {},
   "outputs": [
    {
     "name": "stdout",
     "output_type": "stream",
     "text": [
      "Done, using side car 'CadQuery2'\n"
     ]
    }
   ],
   "source": [
    "fins[2].geom"
   ]
  },
  {
   "cell_type": "code",
   "execution_count": null,
   "id": "forty-federal",
   "metadata": {},
   "outputs": [],
   "source": []
  }
 ],
 "metadata": {
  "kernelspec": {
   "display_name": "Python 3",
   "language": "python",
   "name": "python3"
  },
  "language_info": {
   "codemirror_mode": {
    "name": "ipython",
    "version": 3
   },
   "file_extension": ".py",
   "mimetype": "text/x-python",
   "name": "python",
   "nbconvert_exporter": "python",
   "pygments_lexer": "ipython3",
   "version": "3.8.5"
  }
 },
 "nbformat": 4,
 "nbformat_minor": 5
}
