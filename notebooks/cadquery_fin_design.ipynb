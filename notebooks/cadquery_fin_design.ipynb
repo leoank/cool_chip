{
 "cells": [
  {
   "cell_type": "code",
   "execution_count": 1,
   "id": "following-pennsylvania",
   "metadata": {},
   "outputs": [
    {
     "name": "stdout",
     "output_type": "stream",
     "text": [
      "Overwriting auto display for cadquery Workplane and Shape\n"
     ]
    }
   ],
   "source": [
    "import cadquery as cq\n",
    "from jupyter_cadquery.cadquery import (PartGroup, Part, Edges, Faces, Vertices, show)\n",
    "from jupyter_cadquery import set_sidecar, set_defaults, reset_defaults\n",
    "\n",
    "set_sidecar(\"CadQuery\")  # force usage of one cad view on the right\n",
    "set_defaults(axes=False, grid=True, axes0=True, ortho=True, transparent=True) # Set default values"
   ]
  },
  {
   "cell_type": "code",
   "execution_count": 23,
   "id": "expired-mounting",
   "metadata": {},
   "outputs": [],
   "source": [
    "# Params\n",
    "FIN_BOTTOM_RADIUS = 5.0\n",
    "FIN_TOP_RADIUS = 0.1\n",
    "FIN_HEIGHT = 100\n",
    "N = 2"
   ]
  },
  {
   "cell_type": "code",
   "execution_count": 24,
   "id": "antique-warehouse",
   "metadata": {},
   "outputs": [],
   "source": [
    "intermediate_radius = [\n",
    "    (FIN_TOP_RADIUS \n",
    "     + (FIN_BOTTOM_RADIUS-FIN_TOP_RADIUS)\n",
    "     *(1-(((FIN_HEIGHT/20)*r)/FIN_HEIGHT))**N)\n",
    "    for r in range(20)\n",
    "]"
   ]
  },
  {
   "cell_type": "code",
   "execution_count": 25,
   "id": "genetic-details",
   "metadata": {},
   "outputs": [
    {
     "data": {
      "text/plain": [
       "[5.0,\n",
       " 4.52225,\n",
       " 4.069000000000001,\n",
       " 3.64025,\n",
       " 3.236000000000001,\n",
       " 2.85625,\n",
       " 2.501,\n",
       " 2.1702500000000002,\n",
       " 1.864,\n",
       " 1.5822500000000004,\n",
       " 1.3250000000000002,\n",
       " 1.09225,\n",
       " 0.8840000000000002,\n",
       " 0.7002499999999999,\n",
       " 0.5410000000000001,\n",
       " 0.40625,\n",
       " 0.29599999999999993,\n",
       " 0.21025000000000005,\n",
       " 0.149,\n",
       " 0.11225000000000003]"
      ]
     },
     "execution_count": 25,
     "metadata": {},
     "output_type": "execute_result"
    }
   ],
   "source": [
    "intermediate_radius"
   ]
  },
  {
   "cell_type": "code",
   "execution_count": 11,
   "id": "caring-sailing",
   "metadata": {
    "jupyter": {
     "source_hidden": true
    }
   },
   "outputs": [
    {
     "name": "stdout",
     "output_type": "stream",
     "text": [
      "Done, using side car 'CadQuery'\n"
     ]
    },
    {
     "data": {
      "text/plain": [
       "<jupyter_cadquery.cad_display.CadqueryDisplay at 0x7fa7f196a040>"
      ]
     },
     "execution_count": 11,
     "metadata": {},
     "output_type": "execute_result"
    }
   ],
   "source": [
    "\n",
    "cy_fin = (\n",
    "    cq.Workplane('XY')\n",
    "        .circle(radius=FIN_BOTTOM_RADIUS)\n",
    "        .workplane(offset=FIN_HEIGHT/2)\n",
    "        .circle(radius=10)\n",
    "        .workplane(offset=FIN_HEIGHT)\n",
    "        .circle(radius=FIN_TOP_RADIUS)\n",
    "        .loft(combine=True)\n",
    ")\n",
    "\n",
    "show(cy_fin, grid=False)"
   ]
  },
  {
   "cell_type": "code",
   "execution_count": 26,
   "id": "crucial-statement",
   "metadata": {},
   "outputs": [],
   "source": [
    "fin = cq.Workplane('XY')\n",
    "for i, radius in enumerate(intermediate_radius):\n",
    "    fin.workplane(offset=((FIN_HEIGHT/20)*i)).circle(radius=radius)\n",
    "fin = fin.loft(combine=True)"
   ]
  },
  {
   "cell_type": "code",
   "execution_count": 27,
   "id": "vanilla-support",
   "metadata": {},
   "outputs": [
    {
     "name": "stdout",
     "output_type": "stream",
     "text": [
      "Done, using side car 'CadQuery'\n"
     ]
    }
   ],
   "source": [
    "fin"
   ]
  },
  {
   "cell_type": "code",
   "execution_count": null,
   "id": "compound-animation",
   "metadata": {},
   "outputs": [],
   "source": []
  }
 ],
 "metadata": {
  "kernelspec": {
   "display_name": "Python 3",
   "language": "python",
   "name": "python3"
  },
  "language_info": {
   "codemirror_mode": {
    "name": "ipython",
    "version": 3
   },
   "file_extension": ".py",
   "mimetype": "text/x-python",
   "name": "python",
   "nbconvert_exporter": "python",
   "pygments_lexer": "ipython3",
   "version": "3.8.5"
  }
 },
 "nbformat": 4,
 "nbformat_minor": 5
}
